{
 "cells": [
  {
   "cell_type": "code",
   "execution_count": 1,
   "metadata": {},
   "outputs": [],
   "source": [
    "import requests\n",
    "from algorithm.html_models import TableObject\n",
    "from bs4 import BeautifulSoup"
   ]
  },
  {
   "cell_type": "code",
   "execution_count": 2,
   "metadata": {},
   "outputs": [],
   "source": [
    "response = requests.get('https://en.volleyballworld.com/en/volleyball/clubworldchampionships/women/2019/results%20and%20ranking/round1')"
   ]
  },
  {
   "cell_type": "code",
   "execution_count": 3,
   "metadata": {},
   "outputs": [],
   "source": [
    "soup = BeautifulSoup(response.content, 'html.parser')"
   ]
  },
  {
   "cell_type": "code",
   "execution_count": 4,
   "metadata": {},
   "outputs": [],
   "source": [
    "tables = soup.find_all('table')"
   ]
  },
  {
   "cell_type": "code",
   "execution_count": 5,
   "metadata": {},
   "outputs": [],
   "source": [
    "table_instance = TableObject(tables[-1])"
   ]
  },
  {
   "cell_type": "code",
   "execution_count": 6,
   "metadata": {},
   "outputs": [
    {
     "ename": "ValueError",
     "evalue": "empty separator",
     "output_type": "error",
     "traceback": [
      "\u001b[1;31m---------------------------------------------------------------------------\u001b[0m",
      "\u001b[1;31mValueError\u001b[0m                                Traceback (most recent call last)",
      "Cell \u001b[1;32mIn [6], line 1\u001b[0m\n\u001b[1;32m----> 1\u001b[0m \u001b[39mlist\u001b[39m(table_instance\u001b[39m.\u001b[39;49mconstruct)\n",
      "File \u001b[1;32mc:\\Users\\Pende\\AppData\\Local\\Programs\\Python\\Python311\\Lib\\functools.py:1001\u001b[0m, in \u001b[0;36mcached_property.__get__\u001b[1;34m(self, instance, owner)\u001b[0m\n\u001b[0;32m    999\u001b[0m val \u001b[39m=\u001b[39m cache\u001b[39m.\u001b[39mget(\u001b[39mself\u001b[39m\u001b[39m.\u001b[39mattrname, _NOT_FOUND)\n\u001b[0;32m   1000\u001b[0m \u001b[39mif\u001b[39;00m val \u001b[39mis\u001b[39;00m _NOT_FOUND:\n\u001b[1;32m-> 1001\u001b[0m     val \u001b[39m=\u001b[39m \u001b[39mself\u001b[39;49m\u001b[39m.\u001b[39;49mfunc(instance)\n\u001b[0;32m   1002\u001b[0m     \u001b[39mtry\u001b[39;00m:\n\u001b[0;32m   1003\u001b[0m         cache[\u001b[39mself\u001b[39m\u001b[39m.\u001b[39mattrname] \u001b[39m=\u001b[39m val\n",
      "File \u001b[1;32md:\\mywebsites\\myautomation\\algorithm\\html_models.py:26\u001b[0m, in \u001b[0;36mTableObject.construct\u001b[1;34m(self)\u001b[0m\n\u001b[0;32m     24\u001b[0m \u001b[39m@cached_property\u001b[39m\n\u001b[0;32m     25\u001b[0m \u001b[39mdef\u001b[39;00m \u001b[39mconstruct\u001b[39m(\u001b[39mself\u001b[39m):\n\u001b[1;32m---> 26\u001b[0m     \u001b[39mreturn\u001b[39;00m [\u001b[39mlist\u001b[39;49m(\u001b[39mself\u001b[39;49m\u001b[39m.\u001b[39;49mheader), \u001b[39mlist\u001b[39m(\u001b[39mself\u001b[39m\u001b[39m.\u001b[39mdata)]\n",
      "File \u001b[1;32md:\\mywebsites\\myautomation\\algorithm\\html_models.py:16\u001b[0m, in \u001b[0;36mTableObject.header\u001b[1;34m(self)\u001b[0m\n\u001b[0;32m     14\u001b[0m headers \u001b[39m=\u001b[39m \u001b[39mself\u001b[39m\u001b[39m.\u001b[39mtable_head\u001b[39m.\u001b[39mfind_all(\u001b[39m'\u001b[39m\u001b[39mth\u001b[39m\u001b[39m'\u001b[39m)\n\u001b[0;32m     15\u001b[0m \u001b[39mfor\u001b[39;00m header \u001b[39min\u001b[39;00m headers:\n\u001b[1;32m---> 16\u001b[0m     \u001b[39myield\u001b[39;00m \u001b[39mself\u001b[39;49m\u001b[39m.\u001b[39;49mdeep_clean(header\u001b[39m.\u001b[39;49mtext)\n",
      "File \u001b[1;32md:\\mywebsites\\myautomation\\algorithm\\mixins.py:9\u001b[0m, in \u001b[0;36mCleaningMixin.deep_clean\u001b[1;34m(self, value)\u001b[0m\n\u001b[0;32m      7\u001b[0m value \u001b[39m=\u001b[39m \u001b[39mstr\u001b[39m(value)\u001b[39m.\u001b[39mreplace(\u001b[39m'\u001b[39m\u001b[39m\\n\u001b[39;00m\u001b[39m'\u001b[39m, \u001b[39m'\u001b[39m\u001b[39m'\u001b[39m)\n\u001b[0;32m      8\u001b[0m value \u001b[39m=\u001b[39m \u001b[39mstr\u001b[39m(value)\u001b[39m.\u001b[39mreplace(\u001b[39m'\u001b[39m\u001b[39m\\r\u001b[39;00m\u001b[39m'\u001b[39m, \u001b[39m'\u001b[39m\u001b[39m'\u001b[39m)\n\u001b[1;32m----> 9\u001b[0m tokens \u001b[39m=\u001b[39m value\u001b[39m.\u001b[39;49msplit(\u001b[39m'\u001b[39;49m\u001b[39m'\u001b[39;49m)\n\u001b[0;32m     10\u001b[0m result \u001b[39m=\u001b[39m \u001b[39m'\u001b[39m\u001b[39m \u001b[39m\u001b[39m'\u001b[39m\u001b[39m.\u001b[39mjoin(\u001b[39mfilter\u001b[39m(\u001b[39mlambda\u001b[39;00m x: x \u001b[39m!=\u001b[39m \u001b[39m'\u001b[39m\u001b[39m'\u001b[39m, tokens))\n\u001b[0;32m     11\u001b[0m \u001b[39mreturn\u001b[39;00m result\n",
      "\u001b[1;31mValueError\u001b[0m: empty separator"
     ]
    }
   ],
   "source": [
    "list(table_instance.construct)\n"
   ]
  },
  {
   "cell_type": "code",
   "execution_count": null,
   "metadata": {},
   "outputs": [],
   "source": [
    "b'VKF\\xa0-\\xa0DPC'.decode('utf-8', 'strict')\n"
   ]
  }
 ],
 "metadata": {
  "kernelspec": {
   "display_name": "Python 3",
   "language": "python",
   "name": "python3"
  },
  "language_info": {
   "codemirror_mode": {
    "name": "ipython",
    "version": 3
   },
   "file_extension": ".py",
   "mimetype": "text/x-python",
   "name": "python",
   "nbconvert_exporter": "python",
   "pygments_lexer": "ipython3",
   "version": "3.11.0"
  },
  "orig_nbformat": 4,
  "vscode": {
   "interpreter": {
    "hash": "0849274d6df54aabd08f52ff7e159d796c35033abff5263fc7ba3098e17f43da"
   }
  }
 },
 "nbformat": 4,
 "nbformat_minor": 2
}
